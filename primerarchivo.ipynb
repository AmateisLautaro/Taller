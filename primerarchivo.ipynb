{
 "cells": [
  {
   "cell_type": "markdown",
   "id": "f20233be",
   "metadata": {},
   "source": [
    "##\n",
    "probando probandoooooo"
   ]
  },
  {
   "cell_type": "code",
   "execution_count": 5,
   "id": "4205a57e",
   "metadata": {},
   "outputs": [
    {
     "name": "stdout",
     "output_type": "stream",
     "text": [
      "9\n"
     ]
    }
   ],
   "source": [
    "a = 6\n",
    "b = 3\n",
    "d = a + b\n",
    "print (d)"
   ]
  },
  {
   "cell_type": "code",
   "execution_count": 7,
   "id": "b90047a9",
   "metadata": {},
   "outputs": [],
   "source": [
    "ukdtkdktud = 0\n"
   ]
  },
  {
   "cell_type": "code",
   "execution_count": null,
   "id": "d50a3b89",
   "metadata": {},
   "outputs": [],
   "source": []
  },
  {
   "cell_type": "code",
   "execution_count": null,
   "id": "aa8cd8de",
   "metadata": {},
   "outputs": [],
   "source": []
  }
 ],
 "metadata": {
  "kernelspec": {
   "display_name": "Python [conda env:.conda-dhdsblend2021] *",
   "language": "python",
   "name": "conda-env-.conda-dhdsblend2021-py"
  },
  "language_info": {
   "codemirror_mode": {
    "name": "ipython",
    "version": 3
   },
   "file_extension": ".py",
   "mimetype": "text/x-python",
   "name": "python",
   "nbconvert_exporter": "python",
   "pygments_lexer": "ipython3",
   "version": "3.8.12"
  }
 },
 "nbformat": 4,
 "nbformat_minor": 5
}
